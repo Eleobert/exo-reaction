{
 "cells": [
  {
   "cell_type": "markdown",
   "metadata": {},
   "source": [
    "#### Modeling The System\n",
    "\n",
    "The folowing is a program that models a system with N molecules."
   ]
  },
  {
   "cell_type": "markdown",
   "metadata": {},
   "source": [
    "We start defining the random energy generator:"
   ]
  },
  {
   "cell_type": "code",
   "execution_count": 1,
   "metadata": {},
   "outputs": [],
   "source": [
    "from random import random\n",
    "import math\n",
    "\n",
    "def random_energy(k, T):\n",
    "    return -k*T*math.log(random())"
   ]
  },
  {
   "cell_type": "markdown",
   "metadata": {},
   "source": [
    "Here we run the simulation:"
   ]
  },
  {
   "cell_type": "code",
   "execution_count": 2,
   "metadata": {},
   "outputs": [],
   "source": [
    "tmax = 200\n",
    "characteristic_time = 1\n",
    "activation_energy = 1e-20\n",
    "k = 1.38e-23\n",
    "T = 229\n",
    "N = 1000\n",
    "\n",
    "# List indicating the status of the molecule i. True is active, false is inactive. \n",
    "# We start defining the status of all molecules as false \n",
    "\n",
    "status = [False] * N\n",
    "\n",
    "# this is to keep record of all molecules that reacted at time t\n",
    "# it helps us when building the graph\n",
    "n_time = [0] * int(tmax / characteristic_time)\n",
    "\n",
    "\n",
    "for t in range(len(n_time)):\n",
    "    for i in range(0, N):\n",
    "        # check if the molecule is already active\n",
    "        if status[i] == True:\n",
    "            # case yes we ignore it\n",
    "            continue\n",
    "        # get a random energy\n",
    "        e = random_energy(k, T)\n",
    "        # check if the energy is > than the activation energy\n",
    "        if e > activation_energy:\n",
    "            # We set the new status\n",
    "            status[i] = True\n",
    "            n_time[t] = n_time[t] + 1\n",
    "    "
   ]
  },
  {
   "cell_type": "markdown",
   "metadata": {},
   "source": [
    "After the simulation is finished we have the array `n_time`, that is the number of molecules reacted at time $i$. We down define the function on N. If everything went right both N(t) and the expected results will be very close."
   ]
  },
  {
   "cell_type": "code",
   "execution_count": 7,
   "metadata": {},
   "outputs": [],
   "source": [
    "def u(tau, k, t0, ea):\n",
    "    return 1 / tau * pow(math.e, -ea / (k*t0))\n",
    "\n",
    "def n(t, tau, n0, k, t0, ea):\n",
    "    return n0 * pow(math.e, -u(tau, k, t0, ea)*t)"
   ]
  },
  {
   "cell_type": "markdown",
   "metadata": {},
   "source": [
    "Down we plot the number of inactive molecules with respect to time."
   ]
  },
  {
   "cell_type": "code",
   "execution_count": 9,
   "metadata": {},
   "outputs": [
    {
     "data": {
      "text/plain": [
       "[<matplotlib.lines.Line2D at 0x7f8c1584f490>]"
      ]
     },
     "execution_count": 9,
     "metadata": {},
     "output_type": "execute_result"
    },
    {
     "data": {
      "image/png": "[encoded data removed]",
      "text/plain": [
       "<Figure size 432x288 with 1 Axes>"
      ]
     },
     "metadata": {
      "needs_background": "light"
     },
     "output_type": "display_data"
    }
   ],
   "source": [
    "import itertools\n",
    "import numpy as np\n",
    "\n",
    "\n",
    "ys = N - np.cumsum(np.array(n_time))\n",
    "xs = np.linspace(0, tmax, len(ys))\n",
    "\n",
    "import matplotlib.pyplot as plt\n",
    "\n",
    "# plot the simulation data\n",
    "plt.plot(xs, ys, label='Simulation Results')\n",
    "\n",
    "# get the expected data from the formula\n",
    "# !! we here have a problemof overflow\n",
    "ys = [n(t, characteristic_time, N, k, T, activation_energy) for t in xs]\n",
    "\n",
    "# plot expected data\n",
    "plt.plot(xs, ys, label='Expected Results', linestyle=':')"
   ]
  },
  {
   "cell_type": "code",
   "execution_count": null,
   "metadata": {},
   "outputs": [],
   "source": []
  },
  {
   "cell_type": "code",
   "execution_count": null,
   "metadata": {},
   "outputs": [],
   "source": []
  }
 ],
 "metadata": {
  "kernelspec": {
   "display_name": "Python 3.8.2 64-bit",
   "language": "python",
   "name": "python38264bit3087c5c2fee040408681fe9c6ad3fc2b"
  },
  "language_info": {
   "codemirror_mode": {
    "name": "ipython",
    "version": 3
   },
   "file_extension": ".py",
   "mimetype": "text/x-python",
   "name": "python",
   "nbconvert_exporter": "python",
   "pygments_lexer": "ipython3",
   "version": "3.8.5"
  }
 },
 "nbformat": 4,
 "nbformat_minor": 4
}
